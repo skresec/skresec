{
 "cells": [
  {
   "cell_type": "markdown",
   "metadata": {},
   "source": []
  },
  {
   "cell_type": "code",
   "execution_count": null,
   "metadata": {},
   "outputs": [],
   "source": [
    "pip install yfinance"
   ]
  },
  {
   "cell_type": "code",
   "execution_count": null,
   "metadata": {},
   "outputs": [],
   "source": [
    "pip install matplotlib"
   ]
  },
  {
   "cell_type": "code",
   "execution_count": 6,
   "metadata": {},
   "outputs": [
    {
     "name": "stderr",
     "output_type": "stream",
     "text": [
      "Matplotlib is building the font cache; this may take a moment.\n"
     ]
    }
   ],
   "source": [
    "import yfinance as yf\n",
    "import pandas as pd\n",
    "import numpy as np\n",
    "import matplotlib.pyplot as plt\n"
   ]
  },
  {
   "cell_type": "code",
   "execution_count": 7,
   "metadata": {},
   "outputs": [],
   "source": [
    "start_date='2022-09-01'\n",
    "end_date='2022-10-07'\n",
    "ticker=['AAPL','ABT']"
   ]
  },
  {
   "cell_type": "code",
   "execution_count": 8,
   "metadata": {},
   "outputs": [
    {
     "name": "stdout",
     "output_type": "stream",
     "text": [
      "[*********************100%***********************]  2 of 2 completed\n"
     ]
    }
   ],
   "source": [
    "data=yf.download(ticker,start=start_date,end=end_date)"
   ]
  },
  {
   "cell_type": "code",
   "execution_count": 9,
   "metadata": {},
   "outputs": [
    {
     "data": {
      "text/html": [
       "<div>\n",
       "<style scoped>\n",
       "    .dataframe tbody tr th:only-of-type {\n",
       "        vertical-align: middle;\n",
       "    }\n",
       "\n",
       "    .dataframe tbody tr th {\n",
       "        vertical-align: top;\n",
       "    }\n",
       "\n",
       "    .dataframe thead tr th {\n",
       "        text-align: left;\n",
       "    }\n",
       "\n",
       "    .dataframe thead tr:last-of-type th {\n",
       "        text-align: right;\n",
       "    }\n",
       "</style>\n",
       "<table border=\"1\" class=\"dataframe\">\n",
       "  <thead>\n",
       "    <tr>\n",
       "      <th></th>\n",
       "      <th colspan=\"2\" halign=\"left\">Adj Close</th>\n",
       "      <th colspan=\"2\" halign=\"left\">Close</th>\n",
       "      <th colspan=\"2\" halign=\"left\">High</th>\n",
       "      <th colspan=\"2\" halign=\"left\">Low</th>\n",
       "      <th colspan=\"2\" halign=\"left\">Open</th>\n",
       "      <th colspan=\"2\" halign=\"left\">Volume</th>\n",
       "    </tr>\n",
       "    <tr>\n",
       "      <th></th>\n",
       "      <th>AAPL</th>\n",
       "      <th>ABT</th>\n",
       "      <th>AAPL</th>\n",
       "      <th>ABT</th>\n",
       "      <th>AAPL</th>\n",
       "      <th>ABT</th>\n",
       "      <th>AAPL</th>\n",
       "      <th>ABT</th>\n",
       "      <th>AAPL</th>\n",
       "      <th>ABT</th>\n",
       "      <th>AAPL</th>\n",
       "      <th>ABT</th>\n",
       "    </tr>\n",
       "    <tr>\n",
       "      <th>Date</th>\n",
       "      <th></th>\n",
       "      <th></th>\n",
       "      <th></th>\n",
       "      <th></th>\n",
       "      <th></th>\n",
       "      <th></th>\n",
       "      <th></th>\n",
       "      <th></th>\n",
       "      <th></th>\n",
       "      <th></th>\n",
       "      <th></th>\n",
       "      <th></th>\n",
       "    </tr>\n",
       "  </thead>\n",
       "  <tbody>\n",
       "    <tr>\n",
       "      <th>2022-09-01 00:00:00-04:00</th>\n",
       "      <td>157.960007</td>\n",
       "      <td>104.839996</td>\n",
       "      <td>157.960007</td>\n",
       "      <td>104.839996</td>\n",
       "      <td>158.419998</td>\n",
       "      <td>104.900002</td>\n",
       "      <td>154.669998</td>\n",
       "      <td>102.029999</td>\n",
       "      <td>156.639999</td>\n",
       "      <td>102.360001</td>\n",
       "      <td>74229900</td>\n",
       "      <td>4397900</td>\n",
       "    </tr>\n",
       "    <tr>\n",
       "      <th>2022-09-02 00:00:00-04:00</th>\n",
       "      <td>155.809998</td>\n",
       "      <td>102.500000</td>\n",
       "      <td>155.809998</td>\n",
       "      <td>102.500000</td>\n",
       "      <td>160.360001</td>\n",
       "      <td>105.650002</td>\n",
       "      <td>154.970001</td>\n",
       "      <td>101.980003</td>\n",
       "      <td>159.750000</td>\n",
       "      <td>105.449997</td>\n",
       "      <td>76905200</td>\n",
       "      <td>4103200</td>\n",
       "    </tr>\n",
       "    <tr>\n",
       "      <th>2022-09-06 00:00:00-04:00</th>\n",
       "      <td>154.529999</td>\n",
       "      <td>102.709999</td>\n",
       "      <td>154.529999</td>\n",
       "      <td>102.709999</td>\n",
       "      <td>157.089996</td>\n",
       "      <td>103.930000</td>\n",
       "      <td>153.690002</td>\n",
       "      <td>102.239998</td>\n",
       "      <td>156.470001</td>\n",
       "      <td>102.500000</td>\n",
       "      <td>73714800</td>\n",
       "      <td>4670400</td>\n",
       "    </tr>\n",
       "    <tr>\n",
       "      <th>2022-09-07 00:00:00-04:00</th>\n",
       "      <td>155.960007</td>\n",
       "      <td>104.699997</td>\n",
       "      <td>155.960007</td>\n",
       "      <td>104.699997</td>\n",
       "      <td>156.669998</td>\n",
       "      <td>104.970001</td>\n",
       "      <td>153.610001</td>\n",
       "      <td>102.739998</td>\n",
       "      <td>154.820007</td>\n",
       "      <td>102.879997</td>\n",
       "      <td>87449600</td>\n",
       "      <td>5100800</td>\n",
       "    </tr>\n",
       "    <tr>\n",
       "      <th>2022-09-08 00:00:00-04:00</th>\n",
       "      <td>154.460007</td>\n",
       "      <td>106.989998</td>\n",
       "      <td>154.460007</td>\n",
       "      <td>106.989998</td>\n",
       "      <td>156.360001</td>\n",
       "      <td>107.570000</td>\n",
       "      <td>152.679993</td>\n",
       "      <td>103.589996</td>\n",
       "      <td>154.639999</td>\n",
       "      <td>103.629997</td>\n",
       "      <td>84923800</td>\n",
       "      <td>8700700</td>\n",
       "    </tr>\n",
       "  </tbody>\n",
       "</table>\n",
       "</div>"
      ],
      "text/plain": [
       "                            Adj Close                   Close              \\\n",
       "                                 AAPL         ABT        AAPL         ABT   \n",
       "Date                                                                        \n",
       "2022-09-01 00:00:00-04:00  157.960007  104.839996  157.960007  104.839996   \n",
       "2022-09-02 00:00:00-04:00  155.809998  102.500000  155.809998  102.500000   \n",
       "2022-09-06 00:00:00-04:00  154.529999  102.709999  154.529999  102.709999   \n",
       "2022-09-07 00:00:00-04:00  155.960007  104.699997  155.960007  104.699997   \n",
       "2022-09-08 00:00:00-04:00  154.460007  106.989998  154.460007  106.989998   \n",
       "\n",
       "                                 High                     Low              \\\n",
       "                                 AAPL         ABT        AAPL         ABT   \n",
       "Date                                                                        \n",
       "2022-09-01 00:00:00-04:00  158.419998  104.900002  154.669998  102.029999   \n",
       "2022-09-02 00:00:00-04:00  160.360001  105.650002  154.970001  101.980003   \n",
       "2022-09-06 00:00:00-04:00  157.089996  103.930000  153.690002  102.239998   \n",
       "2022-09-07 00:00:00-04:00  156.669998  104.970001  153.610001  102.739998   \n",
       "2022-09-08 00:00:00-04:00  156.360001  107.570000  152.679993  103.589996   \n",
       "\n",
       "                                 Open                Volume           \n",
       "                                 AAPL         ABT      AAPL      ABT  \n",
       "Date                                                                  \n",
       "2022-09-01 00:00:00-04:00  156.639999  102.360001  74229900  4397900  \n",
       "2022-09-02 00:00:00-04:00  159.750000  105.449997  76905200  4103200  \n",
       "2022-09-06 00:00:00-04:00  156.470001  102.500000  73714800  4670400  \n",
       "2022-09-07 00:00:00-04:00  154.820007  102.879997  87449600  5100800  \n",
       "2022-09-08 00:00:00-04:00  154.639999  103.629997  84923800  8700700  "
      ]
     },
     "execution_count": 9,
     "metadata": {},
     "output_type": "execute_result"
    }
   ],
   "source": [
    "data.head()"
   ]
  },
  {
   "cell_type": "markdown",
   "metadata": {},
   "source": [
    "data.to_csv('stock_data.csv')"
   ]
  },
  {
   "cell_type": "code",
   "execution_count": null,
   "metadata": {},
   "outputs": [],
   "source": [
    "data.to_csv('stock_data.csv')"
   ]
  },
  {
   "cell_type": "code",
   "execution_count": 10,
   "metadata": {},
   "outputs": [],
   "source": [
    "#making multiple index to single index\n",
    "data.columns=data.columns.to_flat_index()"
   ]
  },
  {
   "cell_type": "code",
   "execution_count": 13,
   "metadata": {},
   "outputs": [],
   "source": [
    "#tuple to multiindex\n",
    "data.columns=pd.MultiIndex.from_tuples(data.columns)"
   ]
  },
  {
   "cell_type": "code",
   "execution_count": 15,
   "metadata": {},
   "outputs": [],
   "source": [
    "close=data.loc[:,'Close'].copy()"
   ]
  },
  {
   "cell_type": "code",
   "execution_count": null,
   "metadata": {},
   "outputs": [],
   "source": [
    "close"
   ]
  },
  {
   "cell_type": "code",
   "execution_count": 17,
   "metadata": {},
   "outputs": [],
   "source": [
    "%matplotlib inline\n",
    "import matplotlib.pyplot as plt\n",
    "plt.style.use('seaborn')"
   ]
  },
  {
   "cell_type": "code",
   "execution_count": 19,
   "metadata": {},
   "outputs": [
    {
     "data": {
      "image/png": "[encoded data removed]",
      "text/plain": [
       "<Figure size 720x360 with 1 Axes>"
      ]
     },
     "metadata": {},
     "output_type": "display_data"
    }
   ],
   "source": [
    "close.plot(figsize=(10,5),fontsize=8)\n",
    "plt.legend(fontsize=10)\n",
    "plt.show()"
   ]
  },
  {
   "cell_type": "code",
   "execution_count": 20,
   "metadata": {},
   "outputs": [
    {
     "data": {
      "text/plain": [
       "157.9600067138672"
      ]
     },
     "execution_count": 20,
     "metadata": {},
     "output_type": "execute_result"
    }
   ],
   "source": [
    "close.iloc[0,0]"
   ]
  },
  {
   "cell_type": "code",
   "execution_count": 21,
   "metadata": {},
   "outputs": [
    {
     "data": {
      "text/plain": [
       "Date\n",
       "2022-09-01 00:00:00-04:00    1.000000\n",
       "2022-09-02 00:00:00-04:00    0.986389\n",
       "2022-09-06 00:00:00-04:00    0.978286\n",
       "2022-09-07 00:00:00-04:00    0.987339\n",
       "2022-09-08 00:00:00-04:00    0.977842\n",
       "2022-09-09 00:00:00-04:00    0.996265\n",
       "2022-09-12 00:00:00-04:00    1.034629\n",
       "2022-09-13 00:00:00-04:00    0.973917\n",
       "2022-09-14 00:00:00-04:00    0.983224\n",
       "2022-09-15 00:00:00-04:00    0.964611\n",
       "2022-09-16 00:00:00-04:00    0.954039\n",
       "2022-09-19 00:00:00-04:00    0.977969\n",
       "2022-09-20 00:00:00-04:00    0.993289\n",
       "2022-09-21 00:00:00-04:00    0.973158\n",
       "2022-09-22 00:00:00-04:00    0.966954\n",
       "2022-09-23 00:00:00-04:00    0.952330\n",
       "2022-09-26 00:00:00-04:00    0.954482\n",
       "2022-09-27 00:00:00-04:00    0.960749\n",
       "2022-09-28 00:00:00-04:00    0.948595\n",
       "2022-09-29 00:00:00-04:00    0.902000\n",
       "2022-09-30 00:00:00-04:00    0.874905\n",
       "2022-10-03 00:00:00-04:00    0.901811\n",
       "2022-10-04 00:00:00-04:00    0.924918\n",
       "2022-10-05 00:00:00-04:00    0.926817\n",
       "2022-10-06 00:00:00-04:00    0.920676\n",
       "Name: AAPL, dtype: float64"
      ]
     },
     "execution_count": 21,
     "metadata": {},
     "output_type": "execute_result"
    }
   ],
   "source": [
    "close.AAPL.div(close.iloc[0,0])"
   ]
  },
  {
   "cell_type": "code",
   "execution_count": 24,
   "metadata": {},
   "outputs": [],
   "source": [
    "normclose=close.div(close.iloc[0]).mul(100)"
   ]
  },
  {
   "cell_type": "code",
   "execution_count": 25,
   "metadata": {},
   "outputs": [
    {
     "data": {
      "image/png": "[encoded data removed]",
      "text/plain": [
       "<Figure size 720x360 with 1 Axes>"
      ]
     },
     "metadata": {},
     "output_type": "display_data"
    }
   ],
   "source": [
    "normclose.plot(figsize=(10,5),fontsize=8)\n",
    "plt.legend(fontsize=10)\n",
    "plt.show()"
   ]
  }
 ],
 "metadata": {
  "kernelspec": {
   "display_name": "Python 3.6.9 64-bit",
   "language": "python",
   "name": "python3"
  },
  "language_info": {
   "codemirror_mode": {
    "name": "ipython",
    "version": 3
   },
   "file_extension": ".py",
   "mimetype": "text/x-python",
   "name": "python",
   "nbconvert_exporter": "python",
   "pygments_lexer": "ipython3",
   "version": "3.6.9"
  },
  "orig_nbformat": 4,
  "vscode": {
   "interpreter": {
    "hash": "31f2aee4e71d21fbe5cf8b01ff0e069b9275f58929596ceb00d14d90e3e16cd6"
   }
  }
 },
 "nbformat": 4,
 "nbformat_minor": 2
}
